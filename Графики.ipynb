{
 "cells": [
  {
   "cell_type": "code",
   "execution_count": 30,
   "id": "after-appeal",
   "metadata": {},
   "outputs": [],
   "source": [
    "import numpy as np\n",
    "import matplotlib.pyplot as plt"
   ]
  },
  {
   "cell_type": "code",
   "execution_count": 72,
   "id": "coordinated-browser",
   "metadata": {},
   "outputs": [],
   "source": [
    "def fank(x):\n",
    "    y = 0.0 \n",
    "    y=(-2*x**3-6*x**2-3*x+1)\n",
    "    return y"
   ]
  },
  {
   "cell_type": "code",
   "execution_count": 79,
   "id": "generous-swing",
   "metadata": {},
   "outputs": [
    {
     "data": {
      "text/plain": [
       "(array([-100,  -99,  -98,  -97,  -96,  -95,  -94,  -93,  -92,  -91,  -90,\n",
       "         -89,  -88,  -87,  -86,  -85,  -84,  -83,  -82,  -81,  -80,  -79,\n",
       "         -78,  -77,  -76,  -75,  -74,  -73,  -72,  -71,  -70,  -69,  -68,\n",
       "         -67,  -66,  -65,  -64,  -63,  -62,  -61,  -60,  -59,  -58,  -57,\n",
       "         -56,  -55,  -54,  -53,  -52,  -51,  -50,  -49,  -48,  -47,  -46,\n",
       "         -45,  -44,  -43,  -42,  -41,  -40,  -39,  -38,  -37,  -36,  -35,\n",
       "         -34,  -33,  -32,  -31,  -30,  -29,  -28,  -27,  -26,  -25,  -24,\n",
       "         -23,  -22,  -21,  -20,  -19,  -18,  -17,  -16,  -15,  -14,  -13,\n",
       "         -12,  -11,  -10,   -9,   -8,   -7,   -6,   -5,   -4,   -3,   -2,\n",
       "          -1,    0,    1,    2,    3,    4,    5,    6,    7,    8,    9,\n",
       "          10,   11,   12,   13,   14,   15,   16,   17,   18,   19,   20,\n",
       "          21,   22,   23,   24,   25,   26,   27,   28,   29,   30,   31,\n",
       "          32,   33,   34,   35,   36,   37,   38,   39,   40,   41,   42,\n",
       "          43,   44,   45,   46,   47,   48,   49,   50,   51,   52,   53,\n",
       "          54,   55,   56,   57,   58,   59,   60,   61,   62,   63,   64,\n",
       "          65,   66,   67,   68,   69,   70,   71,   72,   73,   74,   75,\n",
       "          76,   77,   78,   79,   80,   81,   82,   83,   84,   85,   86,\n",
       "          87,   88,   89,   90,   91,   92,   93,   94,   95,   96,   97,\n",
       "          98,   99]),\n",
       " array([ 1940301,  1882090,  1825055,  1769184,  1714465,  1660886,\n",
       "         1608435,  1557100,  1506869,  1457730,  1409671,  1362680,\n",
       "         1316745,  1271854,  1227995,  1185156,  1143325,  1102490,\n",
       "         1062639,  1023760,   985841,   948870,   912835,   877724,\n",
       "          843525,   810226,   777815,   746280,   715609,   685790,\n",
       "          656811,   628660,   601325,   574794,   549055,   524096,\n",
       "          499905,   476470,   453779,   431820,   410581,   390050,\n",
       "          370215,   351064,   332585,   314766,   297595,   281060,\n",
       "          265149,   249850,   235151,   221040,   207505,   194534,\n",
       "          182115,   170236,   158885,   148050,   137719,   127880,\n",
       "          118521,   109630,   101195,    93204,    85645,    78506,\n",
       "           71775,    65440,    59489,    53910,    48691,    43820,\n",
       "           39285,    35074,    31175,    27576,    24265,    21230,\n",
       "           18459,    15940,    13661,    11610,     9775,     8144,\n",
       "            6705,     5446,     4355,     3420,     2629,     1970,\n",
       "            1431,     1000,      665,      414,      235,      116,\n",
       "              45,       10,       -1,        0,        1,      -10,\n",
       "             -45,     -116,     -235,     -414,     -665,    -1000,\n",
       "           -1431,    -1970,    -2629,    -3420,    -4355,    -5446,\n",
       "           -6705,    -8144,    -9775,   -11610,   -13661,   -15940,\n",
       "          -18459,   -21230,   -24265,   -27576,   -31175,   -35074,\n",
       "          -39285,   -43820,   -48691,   -53910,   -59489,   -65440,\n",
       "          -71775,   -78506,   -85645,   -93204,  -101195,  -109630,\n",
       "         -118521,  -127880,  -137719,  -148050,  -158885,  -170236,\n",
       "         -182115,  -194534,  -207505,  -221040,  -235151,  -249850,\n",
       "         -265149,  -281060,  -297595,  -314766,  -332585,  -351064,\n",
       "         -370215,  -390050,  -410581,  -431820,  -453779,  -476470,\n",
       "         -499905,  -524096,  -549055,  -574794,  -601325,  -628660,\n",
       "         -656811,  -685790,  -715609,  -746280,  -777815,  -810226,\n",
       "         -843525,  -877724,  -912835,  -948870,  -985841, -1023760,\n",
       "        -1062639, -1102490, -1143325, -1185156, -1227995, -1271854,\n",
       "        -1316745, -1362680, -1409671, -1457730, -1506869, -1557100,\n",
       "        -1608435, -1660886, -1714465, -1769184, -1825055, -1882090,\n",
       "        -1940301, -1999700]))"
      ]
     },
     "execution_count": 79,
     "metadata": {},
     "output_type": "execute_result"
    }
   ],
   "source": [
    "y = np.arange(-100,100)\n",
    "x=y\n",
    "y=fank(y)\n",
    "x,y"
   ]
  },
  {
   "cell_type": "code",
   "execution_count": 82,
   "id": "brave-fiction",
   "metadata": {},
   "outputs": [
    {
     "data": {
      "image/png": "[encoded data removed]",
      "text/plain": [
       "<Figure size 432x288 with 1 Axes>"
      ]
     },
     "metadata": {
      "needs_background": "light"
     },
     "output_type": "display_data"
    }
   ],
   "source": [
    "plt.plot(x,y)\n",
    "plt.grid(True)"
   ]
  },
  {
   "cell_type": "code",
   "execution_count": null,
   "id": "promotional-suicide",
   "metadata": {},
   "outputs": [],
   "source": []
  }
 ],
 "metadata": {
  "kernelspec": {
   "display_name": "Python 3",
   "language": "python",
   "name": "python3"
  },
  "language_info": {
   "codemirror_mode": {
    "name": "ipython",
    "version": 3
   },
   "file_extension": ".py",
   "mimetype": "text/x-python",
   "name": "python",
   "nbconvert_exporter": "python",
   "pygments_lexer": "ipython3",
   "version": "3.7.3"
  }
 },
 "nbformat": 4,
 "nbformat_minor": 5
}
