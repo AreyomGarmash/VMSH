{
 "cells": [
  {
   "cell_type": "code",
   "execution_count": 3,
   "id": "spectacular-boundary",
   "metadata": {},
   "outputs": [],
   "source": [
    "import numpy as np"
   ]
  },
  {
   "cell_type": "markdown",
   "id": "ethical-martial",
   "metadata": {},
   "source": [
    "##Задача 1"
   ]
  },
  {
   "cell_type": "code",
   "execution_count": 4,
   "id": "micro-tower",
   "metadata": {},
   "outputs": [],
   "source": [
    "x = np.array([[1, 0, 1], [2, 0, 2], [3, 0, 3], [4, 4, 4]])"
   ]
  },
  {
   "cell_type": "code",
   "execution_count": 5,
   "id": "yellow-helen",
   "metadata": {},
   "outputs": [],
   "source": [
    "sum=1\n",
    "ccount=0\n",
    "for i in range(min(x.shape)):\n",
    "    if x[i,i]!=0:\n",
    "        ccount=1\n",
    "        sum*=x[i,i]\n",
    "if ccount==0:\n",
    "    sum=0"
   ]
  },
  {
   "cell_type": "code",
   "execution_count": 6,
   "id": "recreational-engagement",
   "metadata": {},
   "outputs": [
    {
     "data": {
      "text/plain": [
       "3"
      ]
     },
     "execution_count": 6,
     "metadata": {},
     "output_type": "execute_result"
    }
   ],
   "source": [
    "sum"
   ]
  },
  {
   "cell_type": "markdown",
   "id": "broadband-candy",
   "metadata": {},
   "source": [
    "##Задача 2 "
   ]
  },
  {
   "cell_type": "code",
   "execution_count": 7,
   "id": "unexpected-circuit",
   "metadata": {},
   "outputs": [],
   "source": [
    "x = np.array([1, 2, 2, 4])\n",
    "y = np.array([4, 2, 1, 2])"
   ]
  },
  {
   "cell_type": "code",
   "execution_count": 8,
   "id": "mighty-creek",
   "metadata": {},
   "outputs": [
    {
     "data": {
      "text/plain": [
       "True"
      ]
     },
     "execution_count": 8,
     "metadata": {},
     "output_type": "execute_result"
    }
   ],
   "source": [
    "np.sum(x)==np.sum(y)"
   ]
  },
  {
   "cell_type": "markdown",
   "id": "coated-certificate",
   "metadata": {},
   "source": [
    "##Задача 3"
   ]
  },
  {
   "cell_type": "code",
   "execution_count": 9,
   "id": "endless-lemon",
   "metadata": {},
   "outputs": [],
   "source": [
    "x = np.array([6, 2, 0, 3, 0, 0, 5, 7, 0])"
   ]
  },
  {
   "cell_type": "code",
   "execution_count": 10,
   "id": "precious-strap",
   "metadata": {},
   "outputs": [],
   "source": [
    "maxim=0\n",
    "for i in range(x.size-1):\n",
    "    if (x[i]==0):\n",
    "        if x[i+1]>maxim:\n",
    "            maxim=x[i+1]"
   ]
  },
  {
   "cell_type": "code",
   "execution_count": 11,
   "id": "cordless-ladder",
   "metadata": {},
   "outputs": [
    {
     "data": {
      "text/plain": [
       "5"
      ]
     },
     "execution_count": 11,
     "metadata": {},
     "output_type": "execute_result"
    }
   ],
   "source": [
    "maxim"
   ]
  },
  {
   "cell_type": "markdown",
   "id": "innovative-tucson",
   "metadata": {},
   "source": [
    "##Задача 4"
   ]
  },
  {
   "cell_type": "code",
   "execution_count": 12,
   "id": "nasty-grill",
   "metadata": {},
   "outputs": [],
   "source": [
    "x = np.array([2, 2, 2, 3, 3, 3, 5])"
   ]
  },
  {
   "cell_type": "code",
   "execution_count": 22,
   "id": "following-submission",
   "metadata": {},
   "outputs": [
    {
     "data": {
      "text/plain": [
       "(array([2, 3, 5]), array([3, 3, 1]))"
      ]
     },
     "execution_count": 22,
     "metadata": {},
     "output_type": "execute_result"
    }
   ],
   "source": [
    "a = np.array([x[0]])\n",
    "b = np.array([0])\n",
    "for i in range(x.size):\n",
    "    if x[i]==a[a.size-1]:\n",
    "        b[b.size-1]+=1\n",
    "    else:\n",
    "        a = np.append(a,x[i])\n",
    "        b = np.append(b,1)\n",
    "a,b"
   ]
  },
  {
   "cell_type": "code",
   "execution_count": null,
   "id": "happy-listening",
   "metadata": {},
   "outputs": [],
   "source": []
  }
 ],
 "metadata": {
  "kernelspec": {
   "display_name": "Python 3",
   "language": "python",
   "name": "python3"
  },
  "language_info": {
   "codemirror_mode": {
    "name": "ipython",
    "version": 3
   },
   "file_extension": ".py",
   "mimetype": "text/x-python",
   "name": "python",
   "nbconvert_exporter": "python",
   "pygments_lexer": "ipython3",
   "version": "3.7.3"
  }
 },
 "nbformat": 4,
 "nbformat_minor": 5
}
